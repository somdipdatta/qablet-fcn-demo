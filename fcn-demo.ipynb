{
 "cells": [
  {
   "cell_type": "markdown",
   "id": "0e66d24e-e239-44d6-a6c3-da9eb77d6674",
   "metadata": {},
   "source": [
    "# Pricing and Backtesting of Fixed Coupon Notes \n",
    "\n",
    "## What is a Fixed Coupon Note?\n",
    "Fixed Coupon Note (FCN) is a popular structured product among high networth investors. A simple version of FCN is defined by reference basket of stocks, coupon rate, autocall barrier, strike, coupon frequency and tenor. "
   ]
  },
  {
   "cell_type": "code",
   "execution_count": 1,
   "id": "736eaddb-7fd7-4681-8f34-b0ebda13ca07",
   "metadata": {},
   "outputs": [],
   "source": [
    "from dataclasses import dataclass\n",
    "\n",
    "\n",
    "@dataclass\n",
    "class FCN:\n",
    "    strike: float  # % of initial price\n",
    "    ko_barrier: float  # % of initial price\n",
    "    coupon: float  # % per period\n",
    "    periodlen: float  # coupon period in years, so 0.25 for quarterly\n",
    "    numperiods: (\n",
    "        int  # tenor in number of coupon periods, numperiods is 4 for 1Y quarterly\n",
    "    )"
   ]
  },
  {
   "cell_type": "markdown",
   "id": "3b59de8f-69b0-43a3-b335-423eaa6739af",
   "metadata": {},
   "source": [
    "This note pays a constant coupon amount periodically subject to early termination. At maturity, the note holder receives either 100% of the invested amount or shares of the worst performing stock in the reference basket depending on its performance. More precisely,"
   ]
  },
  {
   "cell_type": "code",
   "execution_count": 2,
   "id": "006e2537-2af8-40be-9c2c-60b0e854c107",
   "metadata": {},
   "outputs": [],
   "source": [
    "import numpy as np\n",
    "\n",
    "\n",
    "def fcn_payout(path, fcn):\n",
    "    payments = np.zeros_like(path)\n",
    "    isKO = False\n",
    "    for t, p in enumerate(path):\n",
    "        payments[t] = fcn.coupon\n",
    "        if p > fcn.ko_barrier:  # check for early termination\n",
    "            isKO = True\n",
    "            payments[t] += 1\n",
    "            break\n",
    "    if not isKO:\n",
    "        payments[-1] += min(\n",
    "            1.0, path[-1] / fcn.strike\n",
    "        )  # delivery of shares of worst performing stock at strike price\n",
    "    return payments"
   ]
  },
  {
   "cell_type": "markdown",
   "id": "d7dcb640-6dcf-4084-9fbe-3e5c929571fb",
   "metadata": {},
   "source": [
    "Let's take a concrete example of a 1Y FCN on basket of Apple, Tesla and Microsoft that pays quarterly a coupon of 20% p.a."
   ]
  },
  {
   "cell_type": "code",
   "execution_count": 3,
   "id": "3903ba69-145f-43d0-84f9-1da81b7597ad",
   "metadata": {},
   "outputs": [],
   "source": [
    "fcn = FCN(strike=0.8, ko_barrier=1.0, coupon=0.05, periodlen=0.25, numperiods=4)"
   ]
  },
  {
   "cell_type": "markdown",
   "id": "ddc8593d-0caf-407d-a30c-fa02f42c481e",
   "metadata": {},
   "source": [
    "Below are some examples of FCN payout for different trajectories of prices of the worst performing share. Initial price of all stocks is taken as 1.0 without loss of generality."
   ]
  },
  {
   "cell_type": "code",
   "execution_count": 4,
   "id": "40967205-1223-42de-9292-e7a6749d4ce9",
   "metadata": {},
   "outputs": [
    {
     "data": {
      "text/plain": [
       "array([0.05, 0.05, 0.05, 1.05])"
      ]
     },
     "execution_count": 4,
     "metadata": {},
     "output_type": "execute_result"
    }
   ],
   "source": [
    "path = [0.98, 0.97, 0.99, 1.0]\n",
    "fcn_payout(path, fcn)"
   ]
  },
  {
   "cell_type": "code",
   "execution_count": 5,
   "id": "a438d5b1-f9d1-4432-a9be-64a671534a08",
   "metadata": {},
   "outputs": [
    {
     "data": {
      "text/plain": [
       "array([0.05, 0.05, 1.05, 0.  ])"
      ]
     },
     "execution_count": 5,
     "metadata": {},
     "output_type": "execute_result"
    }
   ],
   "source": [
    "path = [0.98, 0.99, 1.01, 1.0]\n",
    "fcn_payout(path, fcn)"
   ]
  },
  {
   "cell_type": "code",
   "execution_count": 6,
   "id": "857e0d79-39aa-426d-8d6b-fe9b06ad0275",
   "metadata": {},
   "outputs": [
    {
     "data": {
      "text/plain": [
       "array([0.05, 0.05, 0.05, 0.95])"
      ]
     },
     "execution_count": 6,
     "metadata": {},
     "output_type": "execute_result"
    }
   ],
   "source": [
    "path = [0.98, 0.92, 0.89, 0.72]\n",
    "fcn_payout(path, fcn)"
   ]
  },
  {
   "cell_type": "markdown",
   "id": "c092524e-f002-481b-9e03-df3c75702b42",
   "metadata": {},
   "source": [
    "## Pricing a FCN\n",
    "\n",
    "We use monte-carlo method to price FCNs. Many paths of worst performing share of the baset are simulated using Black-Scholes model for prices. FCN payout is computed for each the paths. Average of the discounted payouts is an estimate of the price.\n",
    "\n",
    "Under Black-Scholes model, price evolve according to the stochastic differential equation:\n",
    "\n",
    "$$ \\log{S_{t+\\Delta}} = \\log{S_t} + (r_f - d - \\frac{1}{2} \\text{diag}(\\Sigma)) \\Delta + \\sigma \\sqrt{\\Delta} \\epsilon$$\n",
    "\n",
    "where, $S_t$ is the vector of stock prices at time t, $r_f$ is the risk free rate, $d$ is the vector of dividend yields of the stocks, $\\Sigma$ is the covariance matrix of stock returns and $\\sigma$ is the Cholesky factor of $\\Sigma$ i.e. $\\Sigma = \\sigma \\sigma^T$.\n",
    "\n",
    "Following function generates a path of the worst performing share in a basket."
   ]
  },
  {
   "cell_type": "code",
   "execution_count": 7,
   "id": "1a072c73-d29f-4741-abd4-c064cbfdfd37",
   "metadata": {},
   "outputs": [],
   "source": [
    "def bsm_paths(numpaths, pathlen, dt, divs, cov, rf, rng):\n",
    "    drift = (rf - divs - 0.5 * np.diag(cov)) * dt\n",
    "    z = rng.multivariate_normal(drift, cov * dt, size=(numpaths, pathlen))\n",
    "    np.cumsum(z, axis=1, out=z)\n",
    "    np.exp(z, out=z)\n",
    "    w = z.min(axis=-1)\n",
    "    return w"
   ]
  },
  {
   "cell_type": "markdown",
   "id": "4fbbc03b-8686-4b4f-b71b-a5c7d5f8642e",
   "metadata": {},
   "source": [
    "Some sample paths of worst performing share among Apple, Microsoft and Tesla based the available data. "
   ]
  },
  {
   "cell_type": "code",
   "execution_count": 8,
   "id": "69341aed-48ab-4791-a8a0-a818d54e5a5f",
   "metadata": {},
   "outputs": [
    {
     "name": "stdout",
     "output_type": "stream",
     "text": [
      "[[0.88642084 0.65257628 0.61394903 0.75759478]\n",
      " [0.90485803 0.87779186 0.84394758 0.76748896]\n",
      " [1.01119888 0.9465981  0.56566273 0.68735511]\n",
      " [0.97920183 0.83926    0.9698816  0.90575901]\n",
      " [0.83451584 0.67335333 0.72365794 0.48529013]]\n"
     ]
    }
   ],
   "source": [
    "rng = np.random.default_rng(seed=42)\n",
    "divs = np.array([0.0054, 0.0071, 0.0])\n",
    "rf = 0.03\n",
    "cov = np.array(\n",
    "    [\n",
    "        [0.03751506, 0.02176969, 0.03418482],\n",
    "        [0.02176969, 0.04947003, 0.02940194],\n",
    "        [0.03418482, 0.02940194, 0.23212459],\n",
    "    ]\n",
    ")\n",
    "paths = bsm_paths(5, fcn.numperiods, fcn.periodlen, divs, cov, rf, rng)\n",
    "print(paths)"
   ]
  },
  {
   "cell_type": "markdown",
   "id": "f09e46b4-1c4d-4bae-8782-449c167b58c7",
   "metadata": {},
   "source": [
    "And the corresponding FCN payouts"
   ]
  },
  {
   "cell_type": "code",
   "execution_count": 9,
   "id": "b35df48b-d998-4895-a37a-82826df67168",
   "metadata": {},
   "outputs": [
    {
     "name": "stdout",
     "output_type": "stream",
     "text": [
      "[[0.05       0.05       0.05       0.99699348]\n",
      " [0.05       0.05       0.05       1.0093612 ]\n",
      " [1.05       0.         0.         0.        ]\n",
      " [0.05       0.05       0.05       1.05      ]\n",
      " [0.05       0.05       0.05       0.65661266]]\n"
     ]
    }
   ],
   "source": [
    "payouts = np.vstack([fcn_payout(path, fcn) for path in paths])\n",
    "print(payouts)"
   ]
  },
  {
   "cell_type": "markdown",
   "id": "a2ccf52e-2ebc-46de-be51-fadbddec0246",
   "metadata": {},
   "source": [
    "Note that the FCN early terminates at the end of first quarter in the third path above. \n",
    "Each of these payouts need to be discounted appropriately to compute PV. Since we know the risk free rate and the coupon period, we can pre compute the discount factors."
   ]
  },
  {
   "cell_type": "code",
   "execution_count": 10,
   "id": "a560911e-2324-4067-85e3-8f85fe3aa832",
   "metadata": {},
   "outputs": [
    {
     "name": "stdout",
     "output_type": "stream",
     "text": [
      "[0.99252805 0.98511194 0.97775124 0.97044553]\n"
     ]
    }
   ],
   "source": [
    "settlement_times = np.arange(1, fcn.numperiods + 1) * fcn.periodlen\n",
    "discount_factors = np.exp(-rf * settlement_times)\n",
    "print(discount_factors)"
   ]
  },
  {
   "cell_type": "markdown",
   "id": "52f8c53f-252a-4ecd-92f1-910808fe4bb2",
   "metadata": {},
   "source": [
    "Price estimate is just the average of the PVs."
   ]
  },
  {
   "cell_type": "code",
   "execution_count": 11,
   "id": "87562826-64c9-41da-8e6b-fadf366a9189",
   "metadata": {},
   "outputs": [
    {
     "name": "stdout",
     "output_type": "stream",
     "text": [
      "1.0472930537593481\n"
     ]
    }
   ],
   "source": [
    "price = np.mean(payouts @ discount_factors)\n",
    "print(price)"
   ]
  },
  {
   "cell_type": "markdown",
   "id": "54720a0e-b4c5-43e1-b4d4-67347bff889f",
   "metadata": {},
   "source": [
    "The function below wraps the above calculations."
   ]
  },
  {
   "cell_type": "code",
   "execution_count": 12,
   "id": "15d130f9-5fe9-4017-8c34-6b856efd444c",
   "metadata": {},
   "outputs": [
    {
     "name": "stdout",
     "output_type": "stream",
     "text": [
      "1.0472930537593481\n"
     ]
    }
   ],
   "source": [
    "def calc_fcn_price_from_paths(paths, fcn, rf):\n",
    "    payouts = np.vstack([fcn_payout(path, fcn) for path in paths])\n",
    "    settlement_times = np.arange(1, fcn.numperiods + 1) * fcn.periodlen\n",
    "    discount_factors = np.exp(-rf * settlement_times)\n",
    "    price = np.mean(payouts @ discount_factors)\n",
    "    return price\n",
    "\n",
    "\n",
    "price = calc_fcn_price_from_paths(paths, fcn, 0.03)\n",
    "print(price)"
   ]
  },
  {
   "cell_type": "markdown",
   "id": "98df5a6b-c57b-49e7-9095-5efcf6ca2646",
   "metadata": {},
   "source": [
    "## Backtesting a FCN\n",
    "\n",
    "Backtesting evaluates payout statistics for a price trajectory observed in the past. An investor might be interested to know what the FCN would have paid, how frequently it terminated early, average duration, etc.\n",
    "\n",
    "The function below returns the statistics of interest in addition to the payout as implemented in `fcn_payout` function above."
   ]
  },
  {
   "cell_type": "code",
   "execution_count": 13,
   "id": "c34b810e-7e63-4e65-9576-c4f7e79ee0a2",
   "metadata": {},
   "outputs": [],
   "source": [
    "def fcn_payout_with_stats(path, fcn: FCN):\n",
    "    payments = np.zeros_like(path)\n",
    "    isKO = False\n",
    "    duration = 0\n",
    "    for t, p in enumerate(path):\n",
    "        duration += 1\n",
    "        payments[t] = fcn.coupon\n",
    "        if p > fcn.ko_barrier:\n",
    "            isKO = True\n",
    "            payments[t] += 1\n",
    "            break\n",
    "    if not isKO:\n",
    "        payments[-1] += min(1.0, path[-1] / fcn.strike)\n",
    "    return {\"payments\": payments, \"isKO\": isKO, \"duration\": duration * fcn.periodlen}"
   ]
  },
  {
   "cell_type": "markdown",
   "id": "840eb95d-7949-4ffe-911b-4313c91a6b28",
   "metadata": {},
   "source": [
    "Let us import historical prices of the stocks of interest."
   ]
  },
  {
   "cell_type": "code",
   "execution_count": 14,
   "id": "6066d42a-cca8-4963-abd7-0d6d1c550edc",
   "metadata": {},
   "outputs": [
    {
     "data": {
      "text/html": [
       "<div>\n",
       "<style scoped>\n",
       "    .dataframe tbody tr th:only-of-type {\n",
       "        vertical-align: middle;\n",
       "    }\n",
       "\n",
       "    .dataframe tbody tr th {\n",
       "        vertical-align: top;\n",
       "    }\n",
       "\n",
       "    .dataframe thead th {\n",
       "        text-align: right;\n",
       "    }\n",
       "</style>\n",
       "<table border=\"1\" class=\"dataframe\">\n",
       "  <thead>\n",
       "    <tr style=\"text-align: right;\">\n",
       "      <th></th>\n",
       "      <th>AAPL</th>\n",
       "      <th>MSFT</th>\n",
       "      <th>TSLA</th>\n",
       "    </tr>\n",
       "  </thead>\n",
       "  <tbody>\n",
       "    <tr>\n",
       "      <th>count</th>\n",
       "      <td>3456.000000</td>\n",
       "      <td>3456.000000</td>\n",
       "      <td>3456.000000</td>\n",
       "    </tr>\n",
       "    <tr>\n",
       "      <th>mean</th>\n",
       "      <td>61.662364</td>\n",
       "      <td>117.624560</td>\n",
       "      <td>72.527078</td>\n",
       "    </tr>\n",
       "    <tr>\n",
       "      <th>std</th>\n",
       "      <td>57.609164</td>\n",
       "      <td>108.442047</td>\n",
       "      <td>101.953699</td>\n",
       "    </tr>\n",
       "    <tr>\n",
       "      <th>min</th>\n",
       "      <td>7.250000</td>\n",
       "      <td>17.580000</td>\n",
       "      <td>1.050000</td>\n",
       "    </tr>\n",
       "    <tr>\n",
       "      <th>25%</th>\n",
       "      <td>18.120000</td>\n",
       "      <td>30.690000</td>\n",
       "      <td>11.087500</td>\n",
       "    </tr>\n",
       "    <tr>\n",
       "      <th>50%</th>\n",
       "      <td>33.780000</td>\n",
       "      <td>62.965000</td>\n",
       "      <td>17.130000</td>\n",
       "    </tr>\n",
       "    <tr>\n",
       "      <th>75%</th>\n",
       "      <td>114.382500</td>\n",
       "      <td>207.075000</td>\n",
       "      <td>137.017500</td>\n",
       "    </tr>\n",
       "    <tr>\n",
       "      <th>max</th>\n",
       "      <td>197.860000</td>\n",
       "      <td>429.370000</td>\n",
       "      <td>409.970000</td>\n",
       "    </tr>\n",
       "  </tbody>\n",
       "</table>\n",
       "</div>"
      ],
      "text/plain": [
       "              AAPL         MSFT         TSLA\n",
       "count  3456.000000  3456.000000  3456.000000\n",
       "mean     61.662364   117.624560    72.527078\n",
       "std      57.609164   108.442047   101.953699\n",
       "min       7.250000    17.580000     1.050000\n",
       "25%      18.120000    30.690000    11.087500\n",
       "50%      33.780000    62.965000    17.130000\n",
       "75%     114.382500   207.075000   137.017500\n",
       "max     197.860000   429.370000   409.970000"
      ]
     },
     "execution_count": 14,
     "metadata": {},
     "output_type": "execute_result"
    }
   ],
   "source": [
    "import pandas as pd\n",
    "\n",
    "prices = pd.read_csv(\"data/prices.csv\", parse_dates=True, index_col=\"date\")\n",
    "prices = prices.dropna()\n",
    "prices.describe()"
   ]
  },
  {
   "cell_type": "markdown",
   "id": "b4bf8c48-d5fa-4468-8b72-cb18dc627fb0",
   "metadata": {},
   "source": [
    "We pick a 1Y trajectory sampled quarterly. We assume 252 trading days per year."
   ]
  },
  {
   "cell_type": "code",
   "execution_count": 15,
   "id": "3098ad9b-43b4-4863-bb55-bd4026a68e54",
   "metadata": {},
   "outputs": [
    {
     "name": "stdout",
     "output_type": "stream",
     "text": [
      "[500 563 626 689 752]\n"
     ]
    }
   ],
   "source": [
    "coupon_period_days = int(fcn.periodlen * 252)\n",
    "tenor_days = fcn.numperiods * coupon_period_days\n",
    "t = 500  # pick a point in history\n",
    "path_idx = t + np.arange(fcn.numperiods + 1) * coupon_period_days\n",
    "print(path_idx)"
   ]
  },
  {
   "cell_type": "code",
   "execution_count": 16,
   "id": "b5513342-176b-4416-9fe3-a2f96e3ed9b0",
   "metadata": {},
   "outputs": [
    {
     "name": "stdout",
     "output_type": "stream",
     "text": [
      "             AAPL   MSFT  TSLA\n",
      "date                          \n",
      "2012-06-21  17.46  24.22  2.15\n",
      "2012-09-20  21.21  25.45  2.06\n",
      "2012-12-21  15.84  22.40  2.27\n",
      "2013-03-26  14.15  23.16  2.52\n",
      "2013-06-25  12.43  27.89  6.83\n"
     ]
    }
   ],
   "source": [
    "path = prices.iloc[path_idx]\n",
    "print(path)"
   ]
  },
  {
   "cell_type": "markdown",
   "id": "23710c18-126e-4783-a79f-9619e2b142d7",
   "metadata": {},
   "source": [
    "We scale the paths such that the initial prices are 1.0 and compute the trajectory of the worst performing stock."
   ]
  },
  {
   "cell_type": "code",
   "execution_count": 17,
   "id": "255fc246-bcb4-4544-8155-dc1486cacc70",
   "metadata": {},
   "outputs": [
    {
     "name": "stdout",
     "output_type": "stream",
     "text": [
      "[0.95813953 0.90721649 0.81042383 0.71191294]\n"
     ]
    }
   ],
   "source": [
    "path = np.array(path)\n",
    "path = path[1:] / path[0]\n",
    "wo_path = path.min(axis=1)\n",
    "print(wo_path)"
   ]
  },
  {
   "cell_type": "markdown",
   "id": "d06e3d99-d03f-41fd-a95b-2bdd046b1283",
   "metadata": {},
   "source": [
    "And backtest the FCN over this path."
   ]
  },
  {
   "cell_type": "code",
   "execution_count": 18,
   "id": "17f7da89-0900-41ac-9871-c1bcc0d82a3c",
   "metadata": {},
   "outputs": [
    {
     "name": "stdout",
     "output_type": "stream",
     "text": [
      "{'payments': array([0.05      , 0.05      , 0.05      , 0.93989118]), 'isKO': False, 'duration': 1.0}\n"
     ]
    }
   ],
   "source": [
    "stats = fcn_payout_with_stats(wo_path, fcn)\n",
    "print(stats)"
   ]
  },
  {
   "cell_type": "markdown",
   "id": "79a6fae1-5e42-4a43-91fc-0053ae993c25",
   "metadata": {},
   "source": [
    "Since payouts at different points in time can have different durations, we use internal rate of return as a metric for comparison. A robust implementation would check for the status of the optimizaiton and exceptions."
   ]
  },
  {
   "cell_type": "code",
   "execution_count": 19,
   "id": "c5b1565a-0493-48fa-96a7-5ee1bc664575",
   "metadata": {},
   "outputs": [],
   "source": [
    "from scipy.optimize import minimize_scalar\n",
    "\n",
    "\n",
    "def loss_irr(ytm, payments, times, price):\n",
    "    pv = np.dot(payments, np.exp(-ytm * times))\n",
    "    err = pv - price\n",
    "    return 0.5 * err * err\n",
    "\n",
    "\n",
    "def compute_irr(payments, times, price):\n",
    "    res = minimize_scalar(fun=loss_irr, args=(payments, times, price))\n",
    "    return res.x"
   ]
  },
  {
   "cell_type": "markdown",
   "id": "f8b896f4-b34a-4ad2-b70b-f5f3b183796e",
   "metadata": {},
   "source": [
    "To compute IRR, we need the price of the FCN associated with this path. This is the price estimated as of time t = 500 based on data available at that time. We assume rf and divs as above and compute covariance matrix based on 1Y history available at time t = 500."
   ]
  },
  {
   "cell_type": "code",
   "execution_count": 20,
   "id": "84828458-054f-4730-bd90-4804b3776d83",
   "metadata": {},
   "outputs": [
    {
     "name": "stdout",
     "output_type": "stream",
     "text": [
      "[[0.08759867 0.03576015 0.06417788]\n",
      " [0.03576015 0.06166824 0.05267657]\n",
      " [0.06417788 0.05267657 0.30022503]]\n"
     ]
    }
   ],
   "source": [
    "px = prices.iloc[(t - 252) : t]\n",
    "cov = np.log(px).diff().dropna().cov() * 252\n",
    "cov = np.asarray(cov)\n",
    "print(cov)"
   ]
  },
  {
   "cell_type": "code",
   "execution_count": 21,
   "id": "23ba9069-80f0-419d-813a-c8f71cb2dd80",
   "metadata": {},
   "outputs": [
    {
     "name": "stdout",
     "output_type": "stream",
     "text": [
      "0.9998274884469566\n"
     ]
    }
   ],
   "source": [
    "paths = bsm_paths(5000, fcn.numperiods, fcn.periodlen, divs, cov, rf, rng)\n",
    "price = calc_fcn_price_from_paths(paths, fcn, rf)\n",
    "print(price)"
   ]
  },
  {
   "cell_type": "code",
   "execution_count": 22,
   "id": "c123c2b4-4406-43e7-9c46-cdc72cb7179b",
   "metadata": {},
   "outputs": [
    {
     "name": "stdout",
     "output_type": "stream",
     "text": [
      "9.28%\n"
     ]
    }
   ],
   "source": [
    "irr = compute_irr(stats[\"payments\"], settlement_times, price)\n",
    "print(f\"{round(irr*100,2)}%\")"
   ]
  },
  {
   "cell_type": "markdown",
   "id": "7ae8308e-956d-48e4-910c-3780d102bd25",
   "metadata": {},
   "source": [
    "## Generic Method for Pricing and Backtesting FCNs\n",
    "\n",
    "While the above set-up was pretty straight forward, one had to write contract specific functions for calculating payouts for a given trajectory of prices. The price model was also 'hard coded' into the monte-carlo calculations.\n",
    "\n",
    "It would be nicer to have a framework, where one can specify a payment schedule i.e. a set of dates and what the contract pays on those dates and choose a model for generating paths to price the given payment schedule. Such a framework would be a powerful tool to design and evaluate new contracts requiring minimal code from the user.\n",
    "\n",
    "qablet is a powerful framework that lets us specify payment schedule with commonly used contract components e.g. fixed payments, exchanging one asset for cash or another, digitals, etc. The user need only to specify the schedule and choose a pricing model. Given the generality, the framework can also be used for backtesting. Let's see the above example implemented with qablet."
   ]
  },
  {
   "cell_type": "markdown",
   "id": "e2df6b18-d3a5-4e7b-a4b9-9a7791e53610",
   "metadata": {},
   "source": [
    "### Set up the FCN contract.\n",
    "At the heart of setting up a contract are events that define the payments under the contract."
   ]
  },
  {
   "cell_type": "code",
   "execution_count": 23,
   "id": "a47736f8-0750-4280-88b4-a8ceb190b28f",
   "metadata": {},
   "outputs": [],
   "source": [
    "from qablet_contracts.timetable import EventsMixin\n",
    "from typing import List\n",
    "from datetime import datetime\n",
    "\n",
    "\n",
    "@dataclass\n",
    "class FCNote(EventsMixin):\n",
    "    ccy: str\n",
    "    assets: List[str]\n",
    "    initial_spot: List[float]\n",
    "    strike: float  # % of initial spot\n",
    "    barrier: float  # % of initial spot\n",
    "    cpn_rate: float\n",
    "    cpn_dates: List[datetime]\n",
    "    track: str = \"\"\n",
    "\n",
    "    def events(self):\n",
    "        events = []\n",
    "        # coupon and call events\n",
    "        for cpn_date in self.cpn_dates:\n",
    "            # coupon payment\n",
    "            events.append(\n",
    "                {\n",
    "                    \"track\": self.track,\n",
    "                    \"time\": cpn_date,\n",
    "                    \"op\": \"+\",\n",
    "                    \"quantity\": self.cpn_rate,\n",
    "                    \"unit\": self.ccy,\n",
    "                }\n",
    "            )\n",
    "            # call event\n",
    "            events.append(\n",
    "                {\n",
    "                    \"track\": self.track,\n",
    "                    \"time\": cpn_date,\n",
    "                    \"op\": \"CALL\",\n",
    "                    \"quantity\": 1.0,\n",
    "                    \"unit\": self.ccy,\n",
    "                }\n",
    "            )\n",
    "\n",
    "        # payoff at maturity\n",
    "        events.append(\n",
    "            {\n",
    "                \"track\": \"\",\n",
    "                \"time\": self.cpn_dates[-1],\n",
    "                \"op\": \"+\",\n",
    "                \"quantity\": 1.0,\n",
    "                \"unit\": \"PAYOFF\",\n",
    "            }\n",
    "        )\n",
    "        return events\n",
    "\n",
    "    def expressions(self):\n",
    "        # Define the autocall condition\n",
    "        barriers = [s * self.barrier for s in self.initial_spot]\n",
    "\n",
    "        def barrier_fn(inputs):\n",
    "            a1 = inputs[0] > barriers[0]\n",
    "            b1 = inputs[1] > barriers[1]\n",
    "            c1 = inputs[2] > barriers[2]\n",
    "\n",
    "            return [a1 * b1 * c1]  # 1 if all are above the barrier, 0 otherwise\n",
    "\n",
    "        strikes = [s * self.strike for s in self.initial_spot]\n",
    "\n",
    "        def pay_fn(inputs):\n",
    "            # Calculate worst return\n",
    "            worst = 1.0\n",
    "            for strike, asset in zip(strikes, inputs):\n",
    "                worst = np.minimum(worst, asset / strike)\n",
    "            return [worst]\n",
    "\n",
    "        return {\n",
    "            \"PAYOFF\": {\n",
    "                \"type\": \"phrase\",\n",
    "                \"inp\": self.assets,\n",
    "                \"fn\": pay_fn,\n",
    "            },\n",
    "            \"CALL\": {\n",
    "                \"type\": \"phrase\",\n",
    "                \"inp\": self.assets,\n",
    "                \"fn\": barrier_fn,\n",
    "            },\n",
    "        }"
   ]
  },
  {
   "cell_type": "markdown",
   "id": "de046be1-3f28-4596-a40c-3b594a1798d9",
   "metadata": {},
   "source": [
    "Payment events, barrier event and payoff function at maturity completely characterize the FCN.\n",
    "By modifying the pay_fn, barrier_fn, etc, one can easily customize the FCN or in fact define a different contract altogether.\n",
    "For this timetable we are going to pick the same coupon dates as the above example."
   ]
  },
  {
   "cell_type": "code",
   "execution_count": 24,
   "id": "7b9ab2eb-535f-4744-affd-794d504b1b19",
   "metadata": {},
   "outputs": [
    {
     "name": "stdout",
     "output_type": "stream",
     "text": [
      "                       time    op  quantity    unit track\n",
      "0 2012-09-20 00:00:00+00:00     +      0.05     USD      \n",
      "1 2012-09-20 00:00:00+00:00  CALL      1.00     USD      \n",
      "2 2012-12-21 00:00:00+00:00     +      0.05     USD      \n",
      "3 2012-12-21 00:00:00+00:00  CALL      1.00     USD      \n",
      "4 2013-03-26 00:00:00+00:00     +      0.05     USD      \n",
      "5 2013-03-26 00:00:00+00:00  CALL      1.00     USD      \n",
      "6 2013-06-25 00:00:00+00:00     +      0.05     USD      \n",
      "7 2013-06-25 00:00:00+00:00  CALL      1.00     USD      \n",
      "8 2013-06-25 00:00:00+00:00     +      1.00  PAYOFF      \n"
     ]
    }
   ],
   "source": [
    "cpn_dates = [\n",
    "    datetime(2012, 9, 20),\n",
    "    datetime(2012, 12, 21),\n",
    "    datetime(2013, 3, 26),\n",
    "    datetime(2013, 6, 25),\n",
    "]\n",
    "timetable = FCNote(\n",
    "    ccy=\"USD\",\n",
    "    assets=[\"AAPL\", \"MSFT\", \"TSLA\"],\n",
    "    initial_spot=[17.46, 24.22, 2.15],\n",
    "    strike=0.8,\n",
    "    barrier=1.0,\n",
    "    cpn_rate=0.05,\n",
    "    cpn_dates=cpn_dates,\n",
    ").timetable()\n",
    "print(timetable[\"events\"].to_pandas())"
   ]
  },
  {
   "cell_type": "markdown",
   "id": "14a4ccfa",
   "metadata": {},
   "source": [
    "### Backtesting Model\n",
    "We will create a backtesting model that can parse and produce cashflows for any qablet timetable. For that we need to inherit from `CFModelPyBase` and implement the method `get_value`."
   ]
  },
  {
   "cell_type": "code",
   "execution_count": 25,
   "id": "2b9f1254-ab1d-4b46-aa8b-7b442ad57027",
   "metadata": {},
   "outputs": [],
   "source": [
    "import polars as pl\n",
    "from qablet.base.cf import CFModelPyBase\n",
    "\n",
    "MS_IN_DAY = 1000 * 3600 * 24\n",
    "TS_TO_YEARS = 1 / (365 * 24 * 3600 * 1e9)\n",
    "\n",
    "\n",
    "class CFModelPyCSV(CFModelPyBase):\n",
    "    \"\"\"CFModel that uses data from a CSV.\"\"\"\n",
    "\n",
    "    def __init__(self, filename, base):\n",
    "        \"\"\"Read the csv file on initialization. Assumes that there is a date column and the\n",
    "        data is sorted by the date column. Assumes that the other columns are the units.\n",
    "        infer_schema_length is set to None, which causes the csv reader to read the whole file\n",
    "        before inferring the schema. This is needed if the first row may have blanks. A faster\n",
    "        read can be accomplished by supplying the schema directly.\"\"\"\n",
    "\n",
    "        self.data = pl.read_csv(\n",
    "            filename, try_parse_dates=True, infer_schema_length=None\n",
    "        ).set_sorted(\"date\")\n",
    "        self.ts = self.data[\"date\"].cast(int)\n",
    "\n",
    "        super().__init__(base)\n",
    "\n",
    "    def get_value(self, unit, ts):\n",
    "        \"\"\"Return value for given unit, on given timestamp (ms).\n",
    "        search_sorted is faster than filter by date. It picks the date on or before the ts.\n",
    "        it appears that polars stores dates as a day timestamp, so a conversion is\n",
    "        needed from qablet's milliseconds timestamp.\"\"\"\n",
    "        row = self.ts.search_sorted(ts // MS_IN_DAY)\n",
    "        val = self.data.item(row, unit)\n",
    "        return val"
   ]
  },
  {
   "cell_type": "markdown",
   "id": "5762c4c1",
   "metadata": {},
   "source": [
    "Run the model on the timetable and get the cashflow.\n",
    "cashflow_by_ts returns a polars dataframe where\n",
    "\n",
    "- index correponds to the index in the timetable events\n",
    "- value is cashflow amount in base currency\n",
    "- ts is the timestamp (ms) of the event"
   ]
  },
  {
   "cell_type": "code",
   "execution_count": 26,
   "id": "066f512d-da64-4f88-94bb-3e7b349e98bf",
   "metadata": {},
   "outputs": [
    {
     "name": "stdout",
     "output_type": "stream",
     "text": [
      "shape: (9, 3)\n",
      "┌───────┬──────────┬───────────────┐\n",
      "│ index ┆ value    ┆ ts            │\n",
      "│ ---   ┆ ---      ┆ ---           │\n",
      "│ u64   ┆ f64      ┆ i64           │\n",
      "╞═══════╪══════════╪═══════════════╡\n",
      "│ 0     ┆ 0.05     ┆ 1348099200000 │\n",
      "│ 1     ┆ 0.0      ┆ 1348099200000 │\n",
      "│ 2     ┆ 0.05     ┆ 1356048000000 │\n",
      "│ 3     ┆ 0.0      ┆ 1356048000000 │\n",
      "│ 4     ┆ 0.05     ┆ 1364256000000 │\n",
      "│ 5     ┆ 0.0      ┆ 1364256000000 │\n",
      "│ 6     ┆ 0.05     ┆ 1372118400000 │\n",
      "│ 7     ┆ 0.0      ┆ 1372118400000 │\n",
      "│ 8     ┆ 0.889891 ┆ 1372118400000 │\n",
      "└───────┴──────────┴───────────────┘\n"
     ]
    }
   ],
   "source": [
    "bk_model = CFModelPyCSV(\"data/prices.csv\", \"USD\")\n",
    "cf = bk_model.cashflow_by_ts(timetable)\n",
    "print(cf)"
   ]
  },
  {
   "cell_type": "code",
   "execution_count": 27,
   "id": "7db6d4ce",
   "metadata": {},
   "outputs": [
    {
     "data": {
      "text/html": [
       "<div><style>\n",
       ".dataframe > thead > tr,\n",
       ".dataframe > tbody > tr {\n",
       "  text-align: right;\n",
       "  white-space: pre-wrap;\n",
       "}\n",
       "</style>\n",
       "<small>shape: (4, 2)</small><table border=\"1\" class=\"dataframe\"><thead><tr><th>ts</th><th>value</th></tr><tr><td>i64</td><td>f64</td></tr></thead><tbody><tr><td>1372118400000</td><td>0.939891</td></tr><tr><td>1348099200000</td><td>0.05</td></tr><tr><td>1364256000000</td><td>0.05</td></tr><tr><td>1356048000000</td><td>0.05</td></tr></tbody></table></div>"
      ],
      "text/plain": [
       "shape: (4, 2)\n",
       "┌───────────────┬──────────┐\n",
       "│ ts            ┆ value    │\n",
       "│ ---           ┆ ---      │\n",
       "│ i64           ┆ f64      │\n",
       "╞═══════════════╪══════════╡\n",
       "│ 1372118400000 ┆ 0.939891 │\n",
       "│ 1348099200000 ┆ 0.05     │\n",
       "│ 1364256000000 ┆ 0.05     │\n",
       "│ 1356048000000 ┆ 0.05     │\n",
       "└───────────────┴──────────┘"
      ]
     },
     "execution_count": 27,
     "metadata": {},
     "output_type": "execute_result"
    }
   ],
   "source": [
    "# net cashflows by timestamp\n",
    "cf_agg = cf.group_by(\"ts\").agg(pl.col(\"value\").sum())\n",
    "cf_agg"
   ]
  },
  {
   "cell_type": "markdown",
   "id": "3b992ee3",
   "metadata": {},
   "source": [
    "### Pricing Model\n",
    "To define a Mnte-Carlo model, we will inherit from `finmc.models.base.MCFixedStep`, and implement the methods `reset`, `step`, `get_value`, and `get_df`."
   ]
  },
  {
   "cell_type": "code",
   "execution_count": 28,
   "id": "ce4a20e0",
   "metadata": {},
   "outputs": [],
   "source": [
    "from finmc.models.base import MCFixedStep\n",
    "from finmc.utils.assets import Discounter, Forwards\n",
    "from numpy.random import SFC64, Generator\n",
    "\n",
    "\n",
    "class BSMC(MCFixedStep):\n",
    "    \"\"\"Class for the multi asset Black Scholes model.\"\"\"\n",
    "\n",
    "    def reset(self):\n",
    "        \"\"\"Fetch any information from the dataset or timetable, that needs to be stored into self,\n",
    "        to facilitate the 'advance' method to run as quickly as possible.\"\"\"\n",
    "        # common MC parameters\n",
    "        self.n = self.dataset[\"MC\"][\"PATHS\"]\n",
    "        self.timestep = self.dataset[\"MC\"][\"TIMESTEP\"]\n",
    "        \n",
    "        # fetch the model parameters from the dataset\n",
    "        modeldata = self.dataset[\"BSM\"]\n",
    "        self.cov = modeldata[\"COV\"]\n",
    "\n",
    "        # Create a dictionary of assets, so that we can easily access the idx and spot from string name.\n",
    "        # Also create ordered lists of forwards and variances for the assets.\n",
    "        self.assets = {}\n",
    "        self.fwds = []\n",
    "        self.vars = []\n",
    "        for idx, asset in enumerate(modeldata[\"ASSETS\"]):\n",
    "            fwd = Forwards(self.dataset[\"ASSETS\"][asset])\n",
    "            self.assets[asset] = {\"idx\": idx, \"spot\": fwd.forward(0)}\n",
    "            self.fwds.append(fwd)\n",
    "            self.vars.append(self.cov[idx][idx])\n",
    "\n",
    "        self.discounter = Discounter(self.dataset[\"ASSETS\"][self.dataset[\"BASE\"]])\n",
    "\n",
    "        # Initialize the RNG and the x_vec (log process for each asset)\n",
    "\n",
    "        self.rng = Generator(SFC64(self.dataset[\"MC\"][\"SEED\"]))\n",
    "        self.x_vec = np.zeros((len(self.assets), self.n))\n",
    "\n",
    "        self.cur_time = 0\n",
    "\n",
    "    def step(self, new_time):\n",
    "        \"\"\"Update x_vec in place when we move simulation by time dt.\"\"\"\n",
    "\n",
    "        dt = new_time - self.cur_time\n",
    "\n",
    "        drifts = np.array([fwd.rate(new_time, self.cur_time) for fwd in self.fwds])\n",
    "        drifts -= np.array(self.vars) / 2.0\n",
    "\n",
    "        # generate the random numbers and advance the log stock process\n",
    "        dz = self.rng.multivariate_normal(\n",
    "            drifts * dt, self.cov * dt, self.n\n",
    "        ).transpose()\n",
    "\n",
    "        self.x_vec += dz\n",
    "\n",
    "        self.cur_time = new_time\n",
    "\n",
    "    def get_value(self, unit):\n",
    "        \"\"\"If this asset is part of the model, return its value using the simulated array.\n",
    "        For any other asset that may exist in the timetable, return the default implementation in qablet base model.\n",
    "        \"\"\"\n",
    "\n",
    "        info = self.assets.get(unit)\n",
    "        if info:\n",
    "            return info[\"spot\"] * np.exp(self.x_vec[info[\"idx\"]])\n",
    "\n",
    "    def get_df(self):\n",
    "        return self.discounter.discount(self.cur_time)"
   ]
  },
  {
   "cell_type": "markdown",
   "id": "ac37ab74",
   "metadata": {},
   "source": [
    "Construct the assets market data."
   ]
  },
  {
   "cell_type": "code",
   "execution_count": 29,
   "id": "47aad16f",
   "metadata": {},
   "outputs": [],
   "source": [
    "# Construct the asset data (forwards)\n",
    "assets_data = {}\n",
    "# Rates data\n",
    "assets_data[\"USD\"] = (\"ZERO_RATES\", np.array([[5.0, rf]]))\n",
    "\n",
    "# Equities data\n",
    "assets = [\"AAPL\", \"MSFT\", \"TSLA\"]\n",
    "times = np.array([0.0, 5.0])\n",
    "# These are current spots for pricing. Can be different from contract strikes.\n",
    "initial_spots=[17.46, 24.22, 2.15]\n",
    "for asset, spot, div in zip(assets, initial_spots, divs):\n",
    "    fwds = spot * np.exp(times * (rf - div))\n",
    "    assets_data[asset] = (\"FORWARDS\", np.column_stack((times, fwds)))\n"
   ]
  },
  {
   "cell_type": "code",
   "execution_count": 30,
   "id": "cc8e7ebb",
   "metadata": {},
   "outputs": [],
   "source": [
    "from qablet_contracts.timetable import py_to_ts\n",
    "\n",
    "dataset = {\n",
    "    \"MC\": {\n",
    "        \"PATHS\": 100_000,\n",
    "        \"TIMESTEP\": 100,  # Black-Scholes doesn't need small timesteps\n",
    "        \"SEED\": 1,\n",
    "    },\n",
    "    \"PRICING_TS\": py_to_ts(datetime(2012, 6, 21)).value,\n",
    "    \"BASE\": \"USD\",\n",
    "    \"ASSETS\": assets_data,\n",
    "    \"BSM\": {\n",
    "        \"ASSETS\": assets,\n",
    "        \"COV\": cov,\n",
    "    },\n",
    "}"
   ]
  },
  {
   "cell_type": "code",
   "execution_count": 31,
   "id": "7a9713f8",
   "metadata": {},
   "outputs": [
    {
     "name": "stdout",
     "output_type": "stream",
     "text": [
      "1.0006363146014094\n"
     ]
    }
   ],
   "source": [
    "from qablet.base.mc import MCPricer\n",
    "pricing_model = MCPricer(BSMC)\n",
    "price, _ = pricing_model.price(timetable, dataset)\n",
    "print(price)\n"
   ]
  }
 ],
 "metadata": {
  "kernelspec": {
   "display_name": "Python 3 (ipykernel)",
   "language": "python",
   "name": "python3"
  },
  "language_info": {
   "codemirror_mode": {
    "name": "ipython",
    "version": 3
   },
   "file_extension": ".py",
   "mimetype": "text/x-python",
   "name": "python",
   "nbconvert_exporter": "python",
   "pygments_lexer": "ipython3",
   "version": "3.11.9"
  }
 },
 "nbformat": 4,
 "nbformat_minor": 5
}
